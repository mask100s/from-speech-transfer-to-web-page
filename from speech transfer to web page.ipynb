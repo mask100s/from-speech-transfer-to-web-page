{
 "cells": [
  {
   "cell_type": "code",
   "execution_count": 1,
   "id": "85fca694",
   "metadata": {},
   "outputs": [
    {
     "data": {
      "text/plain": [
       "True"
      ]
     },
     "execution_count": 1,
     "metadata": {},
     "output_type": "execute_result"
    }
   ],
   "source": [
    "# to open a web page in new tab\n",
    "\n",
    "import webbrowser as wb\n",
    "url='https://www.youtube.com/'\n",
    "wb.get().open_new(url)"
   ]
  },
  {
   "cell_type": "code",
   "execution_count": 3,
   "id": "27c48164",
   "metadata": {},
   "outputs": [
    {
     "name": "stdout",
     "output_type": "stream",
     "text": [
      "speak anything : \n",
      "you said : how are you doing\n"
     ]
    }
   ],
   "source": [
    "# to recognize speech and convert to text\n",
    "\n",
    "import speech_recognition as sr\n",
    "r=sr.Recognizer()\n",
    "with sr.Microphone() as source:\n",
    "    print(\"speak anything : \")\n",
    "    audio = r.listen(source)\n",
    "    try:\n",
    "        text = r.recognize_google(audio)\n",
    "        print(\"you said : {}\".format(text))\n",
    "    except:\n",
    "        print(\"sorry could not recoginze what you said\")"
   ]
  },
  {
   "cell_type": "code",
   "execution_count": 10,
   "id": "aa9a7327",
   "metadata": {},
   "outputs": [
    {
     "name": "stdout",
     "output_type": "stream",
     "text": [
      "speak now : \n",
      "you said : YouTube\n"
     ]
    }
   ],
   "source": [
    "# to recognize speech and convert to text and append that text to url and open web page url in new tab\n",
    "\n",
    "import speech_recognition as sr\n",
    "import webbrowser as wb\n",
    "\n",
    "r=sr.Recognizer()\n",
    "with sr.Microphone() as source:\n",
    "    url='https://www.'\n",
    "    print(\"speak now : \")\n",
    "    audio = r.record(source , duration=4)\n",
    "    try:\n",
    "        text = r.recognize_google(audio)\n",
    "        print(\"you said : {}\".format(text))\n",
    "        wb.get().open_new(url+text)\n",
    "    except:\n",
    "        print(\"sorry could not recoginze what you said\")"
   ]
  },
  {
   "cell_type": "code",
   "execution_count": null,
   "id": "3370acd5",
   "metadata": {},
   "outputs": [],
   "source": [
    "# refined code "
   ]
  },
  {
   "cell_type": "code",
   "execution_count": 19,
   "id": "a556aeb9",
   "metadata": {
    "scrolled": true
   },
   "outputs": [
    {
     "name": "stdout",
     "output_type": "stream",
     "text": [
      "[searh Google books: search YouTube ]\n",
      "speak anything : \n",
      "you said : Google books\n"
     ]
    }
   ],
   "source": [
    "import speech_recognition as sr\n",
    "import webbrowser as wb\n",
    "\n",
    "r1=sr.Recognizer()\n",
    "\n",
    "\n",
    "with sr.Microphone() as source:\n",
    "    print(\"[searh Google books: search YouTube ]\")\n",
    "    print(\"speak anything : \")\n",
    "    r1.pause_threshold = 1\n",
    "    audio = r1.record(source , duration=4)\n",
    "\n",
    "    text = r1.recognize_google(audio)\n",
    "    print(\"you said : {}\".format(text))\n",
    "   \n"
   ]
  },
  {
   "cell_type": "code",
   "execution_count": 20,
   "id": "04a308a6",
   "metadata": {},
   "outputs": [
    {
     "name": "stdout",
     "output_type": "stream",
     "text": [
      "search your query : \n",
      "you said : python\n"
     ]
    }
   ],
   "source": [
    "r2=sr.Recognizer()\n",
    "\n",
    "if 'YouTube' in r2.recognize_google(audio):\n",
    "    \n",
    "\n",
    "    with sr.Microphone() as source:\n",
    "        print(\"search your query : \")\n",
    "        r1.pause_threshold = 1\n",
    "        audio = r2.record(source , duration=4)\n",
    "\n",
    "        try:\n",
    "            get = r2.recognize_google(audio)\n",
    "            print(\"you said : {}\".format(get))\n",
    "            url='https://www.youtube.com/'\n",
    "            wb.get().open_new(url+get)\n",
    "\n",
    "        except sr.UnknownValueError:\n",
    "            print(\"error\") \n",
    "        except sr.RequestError as e:\n",
    "            print(\"failed\".format(e))\n",
    "        except:\n",
    "            print(\"sorry could not recoginze what you said\") \n",
    "            \n",
    "\n",
    "\n",
    "if 'Google books' in r2.recognize_google(audio):\n",
    "    \n",
    "\n",
    "    with sr.Microphone() as source:\n",
    "        print(\"search your query : \")\n",
    "        r1.pause_threshold = 1\n",
    "        audio = r2.record(source , duration=4)\n",
    "\n",
    "        try:\n",
    "            get = r2.recognize_google(audio)\n",
    "            print(\"you said : {}\".format(get))\n",
    "            url='https://www.google.com/search?tbm=bks&q='\n",
    "            wb.get().open_new(url+get)\n",
    "\n",
    "        except sr.UnknownValueError:\n",
    "            print(\"error\") \n",
    "        except sr.RequestError as e:\n",
    "            print(\"failed\".format(e))\n",
    "        except:\n",
    "            print(\"sorry could not recoginze what you said\") "
   ]
  },
  {
   "cell_type": "code",
   "execution_count": null,
   "id": "0b42add6",
   "metadata": {},
   "outputs": [],
   "source": []
  }
 ],
 "metadata": {
  "kernelspec": {
   "display_name": "Python 3 (ipykernel)",
   "language": "python",
   "name": "python3"
  },
  "language_info": {
   "codemirror_mode": {
    "name": "ipython",
    "version": 3
   },
   "file_extension": ".py",
   "mimetype": "text/x-python",
   "name": "python",
   "nbconvert_exporter": "python",
   "pygments_lexer": "ipython3",
   "version": "3.8.3"
  }
 },
 "nbformat": 4,
 "nbformat_minor": 5
}
